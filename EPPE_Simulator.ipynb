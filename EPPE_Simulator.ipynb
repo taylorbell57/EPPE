{
 "cells": [
  {
   "cell_type": "code",
   "execution_count": null,
   "metadata": {},
   "outputs": [],
   "source": [
    "# noise sources: stellar flux variations, orientiation angle noise, telescope polarization\n",
    "\n",
    "# fitting params: (albedo*polarization fraction), {Omega, inclination} or {apparent inc, orbAxisAng angle}\n",
    "# additional real params: Q+U+V offsets\n",
    "\n",
    "# need to do a disk integration since there isn't a single path that light takes\n",
    "#    - need to account for angles spanning the visible portion of the illuminated hemisphere"
   ]
  },
  {
   "cell_type": "code",
   "execution_count": null,
   "metadata": {},
   "outputs": [],
   "source": [
    "import numpy as np\n",
    "import matplotlib.pyplot as plt\n",
    "import matplotlib.colors as colors\n",
    "import EPPE_Simulator as eppe\n",
    "import astropy.constants as const\n",
    "\n",
    "import scipy.optimize as spopt\n",
    "\n",
    "# from EPPE_Simulator import cross_match\n",
    "# cross_match.cross_match_tables()"
   ]
  },
  {
   "cell_type": "code",
   "execution_count": null,
   "metadata": {},
   "outputs": [],
   "source": [
    "expTime = 1\n",
    "\n",
    "randomOrientation = False\n",
    "albedo = 0.1#0.1#'theo'\n",
    "polEff = 0.6\n",
    "filt = 'EPPE'\n",
    "pNoiseMultiplier = 1.8\n",
    "\n",
    "savePlots = True\n",
    "savepath = 'saves/'"
   ]
  },
  {
   "cell_type": "code",
   "execution_count": null,
   "metadata": {},
   "outputs": [],
   "source": [
    "systems = eppe.Systems(load=True, polEff=polEff, randomOrientation=randomOrientation, albedo=albedo)\n",
    "\n",
    "systems.catalogue['albedo'][systems.catalogue['rp']/const.R_earth.value<6.] = 0.3\n",
    "\n",
    "# mission = eppe.mission(systems, rad=0.8, filt=filt, trans=0.9) # POMM\n",
    "mission = eppe.mission(systems, filt=filt, trans=0.85, usePhoenix=True) # EPPE"
   ]
  },
  {
   "cell_type": "code",
   "execution_count": null,
   "metadata": {},
   "outputs": [],
   "source": [
    "print(mission.pemCent)"
   ]
  },
  {
   "cell_type": "code",
   "execution_count": null,
   "metadata": {
    "scrolled": false
   },
   "outputs": [],
   "source": [
    "teq = systems.catalogue['teq']\n",
    "rps = systems.catalogue['rp']\n",
    "\n",
    "amps = mission.compute_amps()\n",
    "noise = mission.compute_noise(expTime)*pNoiseMultiplier\n",
    "SNRs = mission.compute_SNR(amps=amps, noise=noise)\n",
    "_, fstar, _ = mission.expose_photometric(expTime, rnd=False)"
   ]
  },
  {
   "cell_type": "markdown",
   "metadata": {},
   "source": [
    "### Figuring out noise levels"
   ]
  },
  {
   "cell_type": "code",
   "execution_count": null,
   "metadata": {},
   "outputs": [],
   "source": [
    "def func(amp,x):\n",
    "    return amp*10**(x/5)\n",
    "\n",
    "def min_func(amp, x, y):\n",
    "    return np.median((y-func(amp, x))**2)*1e7"
   ]
  },
  {
   "cell_type": "code",
   "execution_count": null,
   "metadata": {},
   "outputs": [],
   "source": [
    "spy_result = spopt.minimize(min_func, [1e-6], (systems.catalogue['optMag'], noise), 'Nelder-Mead')\n",
    "\n",
    "print(spy_result)\n",
    "\n",
    "plt.semilogy(systems.catalogue['optMag'], noise, '.')\n",
    "plt.plot(systems.catalogue['optMag'], func(spy_result.x,systems.catalogue['optMag']), '.')\n",
    "plt.show()"
   ]
  },
  {
   "cell_type": "code",
   "execution_count": null,
   "metadata": {},
   "outputs": [],
   "source": [
    "fig = plt.figure(figsize=(12,4))\n",
    "\n",
    "cmap = plt.get_cmap('inferno', 6)\n",
    "\n",
    "# good = rps/const.R_earth.value >= 6.\n",
    "# good = teq < 2000\n",
    "good = teq > -1\n",
    "\n",
    "# additive offset found using median approxMag-optMag\n",
    "approxMag = -2.5*np.log10(fstar) + 27.290663305524518\n",
    "optMag = systems.catalogue['optMag']\n",
    "\n",
    "plt.scatter(x=optMag[good], y=amps[good], c=teq[good], s=3*rps[good]/const.R_earth.value, cmap=cmap, vmin=0, vmax=3000, edgecolor='k', linewidth=0.5)\n",
    "cbar = plt.colorbar(label=r'$\\rm T_{eq} (K)$', extend='max')\n",
    "cbar.set_ticks([500,1000,1500,2000,2500])\n",
    "\n",
    "x = np.linspace(0,20,1000)\n",
    "\n",
    "tint = 80\n",
    "# limit = 1/np.sqrt(tint/expTime)*3*np.sqrt(2)*noise[np.argmin(approxMag)]*(10**((x-np.min(approxMag))/5))\n",
    "limit = 3/np.sqrt(tint/expTime)*np.sqrt(2)*func(spy_result.x,x)\n",
    "limit += mission.pNoiseFloor\n",
    "limit *= 2 # multiplier for only measuring one polarization state at a time\n",
    "# limit *= 2 # multiplier for only 50% visibility from low-Earth, Sun-synchronous orbit\n",
    "plt.plot(x, limit, c='k', ls='-', label=r'$\\rm P~in~'+str(tint)+'~h~with~3\\sigma~confidence$')\n",
    "\n",
    "tint = 800\n",
    "# limit = 1/np.sqrt(tint/expTime)*3*np.sqrt(2)*noise[np.argmin(approxMag)]*(10**((x-np.min(approxMag))/5))\n",
    "limit = 3/np.sqrt(tint/expTime)*np.sqrt(2)*func(spy_result.x,x)\n",
    "limit += mission.pNoiseFloor\n",
    "limit *= 2 # multiplier for only measuring one polarization state at a time\n",
    "# limit *= 2 # multiplier for only 50% visibility from low-Earth, Sun-synchronous orbit\n",
    "plt.plot(x, limit, c='k', ls='-.', label=r'$\\rm P~in~'+str(tint)+'~h~with~3\\sigma~confidence$')\n",
    "\n",
    "tint = 8000\n",
    "# limit = 1/np.sqrt(tint/expTime)*3*np.sqrt(2)*noise[np.argmin(approxMag)]*(10**((x-np.min(approxMag))/5))\n",
    "limit = 3/np.sqrt(tint/expTime)*np.sqrt(2)*func(spy_result.x,x)\n",
    "limit += mission.pNoiseFloor\n",
    "limit *= 2 # multiplier for only measuring one polarization state at a time\n",
    "# limit *= 2 # multiplier for only 50% visibility from low-Earth, Sun-synchronous orbit\n",
    "plt.plot(x, limit, c='k', ls='dotted', label=r'$\\rm P~in~'+str(tint)+'~h~with~3\\sigma~confidence$')\n",
    "\n",
    "\n",
    "plt.yscale('log')\n",
    "plt.ylim(1e-8,2e-4)\n",
    "plt.xlim(2,16.5)\n",
    "plt.xticks([4,6,8,10,12,14,16])\n",
    "\n",
    "plt.xlabel(r'$\\rm V~(mag)$')\n",
    "plt.ylabel(r'$\\rm P_{'+filt+'}$')\n",
    "if albedo != 'theo':\n",
    "    plt.title(r'$\\rm A_g = '+str(albedo)+';~Pol.~Eff. = '+str(polEff)+'$')\n",
    "else:\n",
    "    plt.title(r'$\\rm Predicted~A_g;~Pol.~Eff. = '+str(polEff)+'$')\n",
    "\n",
    "rp = 1\n",
    "d1 = plt.scatter(x=1000, y=1e-12, c='k', s=3*rp, label=r'$\\rm R_p = '+str(rp)+'~R_{\\oplus}$')\n",
    "rp = 4\n",
    "d2 = plt.scatter(x=1000, y=1e-12, c='k', s=3*rp, label=r'$\\rm R_p = '+str(rp)+'~R_{\\oplus}$')\n",
    "rp = 10\n",
    "d3 = plt.scatter(x=1000, y=1e-12, c='k', s=3*rp, label=r'$\\rm R_p = '+str(rp)+'~R_{\\oplus}$')\n",
    "\n",
    "handles, labels = plt.gca().get_legend_handles_labels()\n",
    "legend1 = plt.legend(handles[:3], labels[:3], loc=3, bbox_to_anchor=(-0.1,1.15))\n",
    "legend2 = plt.legend(handles[3:], labels[3:], loc=3, bbox_to_anchor=(0.7,1.15))\n",
    "plt.gca().add_artist(legend1)\n",
    "\n",
    "if savePlots:\n",
    "    if albedo=='theo':\n",
    "        plt.savefig(savepath+'PV_vs_V_theoAg.png', dpi=300, bbox_inches='tight')\n",
    "    else:\n",
    "        plt.savefig(savepath+'PV_vs_V.png', dpi=300, bbox_inches='tight')\n",
    "plt.show()"
   ]
  },
  {
   "cell_type": "code",
   "execution_count": null,
   "metadata": {},
   "outputs": [],
   "source": [
    "tint = 1\n",
    "limit = 1/np.sqrt(tint/expTime)*3*np.sqrt(2)*noise[np.argmin(approxMag)]*(10**((approxMag-np.min(approxMag))/5))\n",
    "\n",
    "x = rps[good]/const.R_earth.value\n",
    "tToThreeSig = (limit/amps)[good]**2/24.\n",
    "\n",
    "tToThreeSig *= 2 # multiplier for only measuring one polarization state at a time\n",
    "# tToThreeSig *= 2 # multiplier for only 50% visibility from low-Earth, Sun-synchronous orbit\n",
    "\n",
    "cmap = plt.get_cmap('inferno', 6)\n",
    "plt.scatter(x, tToThreeSig, c=teq[good], cmap=cmap, vmin=0, vmax=3000, edgecolor='k', linewidth=0.5)\n",
    "cbar = plt.colorbar(label=r'$\\rm T_{eq} (K)$', extend='max')\n",
    "cbar.set_ticks([500,1000,1500,2000,2500])\n",
    "\n",
    "plt.plot([0,1e5], [8000/24.,8000/24.], c='k', ls='dotted', label=r'$\\rm 8000~h$')\n",
    "plt.plot([0,1e5], [800/24.,800/24.], c='k', ls='-.', label=r'$\\rm 800~h$')\n",
    "plt.plot([0,1e5], [80/24.,80/24.], c='k', ls='-', label=r'$\\rm 80~h$')\n",
    "\n",
    "plt.yscale('log')\n",
    "plt.xscale('log')\n",
    "plt.ylim(np.min([np.nanmin(tToThreeSig[tToThreeSig>0])/2., 50/24.]),1e5)\n",
    "plt.xlim(8e-1,45)\n",
    "\n",
    "if albedo != 'theo':\n",
    "    plt.title(r'$\\rm A_g = '+str(albedo)+';~Pol.~Eff. = '+str(polEff)+'$')\n",
    "else:\n",
    "    plt.title(r'$\\rm Predicted~A_g;~Pol.~Eff. = '+str(polEff)+'$')\n",
    "plt.ylabel(r'$\\rm Time~to~P_'+filt+'~at~3\\sigma~(days)$')\n",
    "plt.xlabel(r'$\\rm R_p~(R_{\\oplus})$')\n",
    "\n",
    "plt.legend(loc=6, bbox_to_anchor=(1.375,0.5))\n",
    "\n",
    "if savePlots:\n",
    "    if albedo=='theo':\n",
    "        plt.savefig(savepath+'Stare_vs_Rp_theoAg.png', dpi=300, bbox_inches='tight')\n",
    "    else:\n",
    "        plt.savefig(savepath+'Stare_vs_Rp.png', dpi=300, bbox_inches='tight')\n",
    "plt.show()"
   ]
  },
  {
   "cell_type": "code",
   "execution_count": null,
   "metadata": {
    "scrolled": false
   },
   "outputs": [],
   "source": [
    "nPlanets = 10\n",
    "nEarths = 10\n",
    "fullNames = np.array([])\n",
    "fullInds = np.array([], dtype=int)\n",
    "\n",
    "output = ''\n",
    "\n",
    "if albedo == 'theo':\n",
    "    output += 'Assuming predicted Ag, Pol. Eff. = '+str(polEff)+'\\n\\n\\n'\n",
    "else:\n",
    "    output += 'Fixed depth in Ag, Pol. Eff. = '+str(polEff)+'\\n\\n\\n'\n",
    "\n",
    "for teqMin in range(1000,3000,500):\n",
    "    if teqMin<2500:\n",
    "        teqMax = teqMin+500\n",
    "    else:\n",
    "        teqMax = np.inf\n",
    "    inds = np.where(np.logical_and(np.logical_and(np.logical_and(teqMin <= teq, teq < teqMax), tToThreeSig<60), rps/const.R_earth.value>6))[0]\n",
    "    inds = inds[np.argsort(tToThreeSig[inds])]\n",
    "    if len(inds) > nPlanets:\n",
    "        inds = inds[:nPlanets]\n",
    "    names = systems.catalogue['name'][inds]\n",
    "    ras = (24./360.*systems.catalogue['ra'][inds]).astype(str)\n",
    "    decs = systems.catalogue['dec'][inds].astype(str)\n",
    "    fullNames = np.append(fullNames, names)\n",
    "    fullInds = np.append(fullInds, inds)\n",
    "    output += str(teqMin)+' K < Teq <= '+str(teqMax)+' K\\n'\n",
    "    output += 'names = [\\''+'\\', \\''.join(names)+'\\']\\n'\n",
    "    output += 'RA = ['+', '.join(ras)+']\\n'\n",
    "    output += 'DEC = ['+', '.join(decs)+']\\n'\n",
    "    output += 'Teqs = ['+', '.join(np.rint(teq[inds]).astype(int).astype(str))+'] (K)\\n'\n",
    "    output += 'Rps = ['+', '.join(np.round(rps[inds]/const.R_jup.value,1).astype(str))+'] (R_jup)\\n'\n",
    "    output += 'Albedo = ['+', '.join((np.round(systems.catalogue['albedo'][inds], 2)).astype(str))+']\\n'\n",
    "    output += 'Pol. Amp. = ['+', '.join((np.round(amps[inds]*1e6, 2)).astype(str))+'] ppm\\n'\n",
    "    output += 'Time to 3 sig = ['+', '.join(np.round(tToThreeSig[inds],2).astype(str))+'] (days)\\n\\n'\n",
    "\n",
    "output += '\\nMax time to 3 sigma:    '+str(np.round(np.max(tToThreeSig[fullInds]), 2))+' days\\n'\n",
    "output += 'Mean time to 3 sigma:   '+str(np.round(np.mean(tToThreeSig[fullInds]), 2))+' days\\n'\n",
    "output += 'Median time to 3 sigma: '+str(np.round(np.median(tToThreeSig[fullInds]), 2))+' days\\n'\n",
    "output += 'Min time to 3 sigma:    '+str(np.round(np.min(tToThreeSig[fullInds]), 2))+' days\\n\\n\\n'\n",
    "output += ('Total time to 3 sigma:  '+str(np.round(np.sum(tToThreeSig[fullInds]), 2))+' days'+\n",
    "                                     ' ('+str(np.round(np.sum(tToThreeSig[fullInds])/365., 2))+' years)\\n\\n\\n')\n",
    "    \n",
    "inds = np.where(np.logical_and(rps/const.R_earth.value < 6, tToThreeSig<100))[0]\n",
    "inds = inds[np.argsort(tToThreeSig[inds])]\n",
    "if len(inds) > nEarths:\n",
    "    inds = inds[:nEarths]\n",
    "if len(inds) != 0:\n",
    "    names = systems.catalogue['name'][inds]\n",
    "    ras = (24./360.*systems.catalogue['ra'][inds]).astype(str)\n",
    "    decs = systems.catalogue['dec'][inds].astype(str)\n",
    "    fullNames = np.append(fullNames, names)\n",
    "    fullInds = np.append(fullInds, inds)\n",
    "    output += 'Rp < 6 R_earth\\n'\n",
    "    output += 'names = [\\''+'\\', \\''.join(names)+'\\']\\n'\n",
    "    output += 'RA = ['+', '.join(ras)+']\\n'\n",
    "    output += 'DEC = ['+', '.join(decs)+']\\n'\n",
    "    output += 'Teqs = ['+', '.join(np.rint(teq[inds]).astype(int).astype(str))+'] (K)\\n'\n",
    "    output += 'Rps = ['+', '.join(np.round(rps[inds]/const.R_jup.value,1).astype(str))+'] (R_jup)\\n'\n",
    "    output += 'Albedo = ['+', '.join((np.round(systems.catalogue['albedo'][inds], 2)).astype(str))+']\\n'\n",
    "    output += 'Pol. Amp. = ['+', '.join((np.round(amps[inds]*1e6, 2)).astype(str))+'] ppm\\n'\n",
    "    output += 'Time to 3 sig = ['+', '.join(np.round(tToThreeSig[inds],2).astype(str))+'] (days)\\n\\n'\n",
    "\n",
    "    output += '\\nMax time to 3 sigma:    '+str(np.round(np.max(tToThreeSig[inds]), 2))+' days\\n'\n",
    "    output += 'Mean time to 3 sigma:   '+str(np.round(np.mean(tToThreeSig[inds]), 2))+' days\\n'\n",
    "    output += 'Median time to 3 sigma: '+str(np.round(np.median(tToThreeSig[inds]), 2))+' days\\n'\n",
    "    output += 'Min time to 3 sigma:    '+str(np.round(np.min(tToThreeSig[inds]), 2))+' days\\n\\n\\n'\n",
    "    output += ('Total time to 3 sigma:  '+str(np.round(np.sum(tToThreeSig[inds]), 2))+' days'+\n",
    "                                         ' ('+str(np.round(np.sum(tToThreeSig[inds])/365., 2))+' years)\\n\\n\\n')\n",
    "\n",
    "output += ('Total Number of Targets: '+str(len(fullInds))+'\\n')\n",
    "output += ('Mission lifetime:  '+str(np.round(np.sum(tToThreeSig[fullInds])/365., 2))+' years\\n\\n\\n')\n",
    "\n",
    "fullNames = np.unique(fullNames)\n",
    "fullInds = np.unique(fullInds)\n",
    "\n",
    "print(output)\n",
    "\n",
    "if savePlots:\n",
    "    with open(savepath+'suggestedTargets.txt', \"w\") as text_file:\n",
    "        text_file.write(output)"
   ]
  },
  {
   "cell_type": "code",
   "execution_count": null,
   "metadata": {},
   "outputs": [],
   "source": [
    "fig = plt.figure(figsize=(11,8))\n",
    "ax = plt.gca()\n",
    "ax.set_xscale('log')\n",
    "ax.set_yscale('log')\n",
    "ax.set_ylim(np.nanmin(SNRs[SNRs>0])/2, np.nanmax(SNRs[np.isfinite(SNRs)])*2)\n",
    "ax.set_xlim(8e-1,45)\n",
    "ax.set_ylabel(r'$\\rm P_{'+filt+'}~SNR/hr$')\n",
    "ax.set_xlabel(r'$\\rm Planetary~Radius~(R_{\\oplus})$')\n",
    "\n",
    "cmap = plt.get_cmap('inferno', 6)\n",
    "\n",
    "scat = ax.scatter(x=rps/const.R_earth.value, y=SNRs, c=teq, marker='o', s=10, cmap=cmap, vmin=0, vmax=3000, edgecolor='k', linewidth=0.5)\n",
    "scat = ax.scatter(x=rps[fullInds]/const.R_earth.value, y=SNRs[fullInds], c=teq[fullInds], marker='*', s=175, cmap=cmap, vmin=0, vmax=3000, edgecolor='k', linewidth=0.5)\n",
    "cbar = fig.colorbar(scat, ax=ax, label=r'$\\rm Equilibrium~Temperature~(K)$', extend='max')\n",
    "cbar.set_ticks([500,1000,1500,2000,2500])\n",
    "\n",
    "if albedo != 'theo':\n",
    "    plt.title(r'$\\rm A_g = '+str(albedo)+';~Pol.~Eff. = '+str(polEff)+'$')\n",
    "else:\n",
    "    plt.title(r'$\\rm Predicted~A_g;~Pol.~Eff. = '+str(polEff)+'$')\n",
    "\n",
    "if savePlots:\n",
    "    plt.savefig(savepath+'suggestedTargets.pdf', bbox_inches='tight')\n",
    "\n",
    "plt.show()\n",
    "plt.close(fig)"
   ]
  },
  {
   "cell_type": "code",
   "execution_count": null,
   "metadata": {},
   "outputs": [],
   "source": [
    "intTimes = np.sort(tToThreeSig)\n",
    "xs = np.linspace(0,3,100000,endpoint=True)\n",
    "\n",
    "ys = [0]\n",
    "timeUsed = 0\n",
    "for x in xs[1:]:\n",
    "    if intTimes[0] <= x*365-timeUsed:\n",
    "        timeUsed += intTimes[0]\n",
    "        intTimes = intTimes[1:]\n",
    "        ys.append(ys[-1]+1)\n",
    "    else:\n",
    "        ys.append(ys[-1])\n",
    "ys = np.array(ys)\n",
    "\n",
    "\n",
    "\n",
    "\n",
    "fig = plt.figure(figsize=[8,4])\n",
    "\n",
    "plt.plot(xs*365/30,ys)\n",
    "plt.ylim(0)\n",
    "plt.xlim(0,36)\n",
    "plt.xticks([0,6,12,18,24,30,36])\n",
    "\n",
    "baselinePlanets = fullInds.size-1\n",
    "plt.plot([0,36],[10,10], c='k', label=r'$\\rm Threshold~Mission$')\n",
    "plt.plot([0,36],[baselinePlanets,baselinePlanets], c='k', ls='--', label=r'$\\rm Baseline~Mission$')\n",
    "\n",
    "plt.text(35, 7, r'$\\rm Threshold~Mission$', fontsize=18, ha='right')\n",
    "plt.text(35, 4, r'$\\rm {\\sim}'+str(int(np.rint(xs[ys>=10][0]*365/10)*10))+r'~days$', fontsize=18, ha='right')\n",
    "\n",
    "plt.text(35, 19, r'$\\rm Baseline~Mission$', fontsize=18, ha='right')\n",
    "plt.text(35, 16, r'$\\rm {\\sim}'+str(int(np.rint(np.sum(tToThreeSig[fullInds[systems.catalogue['name'][fullInds]!='55 Cnc e']])/10)*10))+r'~days$', fontsize=18, ha='right')\n",
    "\n",
    "\n",
    "plt.ylabel(r'$\\rm Planets~(\\#)$')\n",
    "plt.xlabel(r'$\\rm Integration~Time~(months)$')\n",
    "\n",
    "# plt.legend(loc='best')\n",
    "\n",
    "if savePlots:\n",
    "    fname = savepath+'discovery_rate'\n",
    "    if albedo=='theo':\n",
    "        fname += '_theoAg'\n",
    "    plt.savefig(fname+'.png', dpi=400, bbox_inches='tight')\n",
    "plt.show()"
   ]
  },
  {
   "cell_type": "code",
   "execution_count": null,
   "metadata": {},
   "outputs": [],
   "source": []
  },
  {
   "cell_type": "code",
   "execution_count": null,
   "metadata": {},
   "outputs": [],
   "source": []
  },
  {
   "cell_type": "code",
   "execution_count": null,
   "metadata": {},
   "outputs": [],
   "source": [
    "print((systems.catalogue['per'][fullInds][np.argsort(tToThreeSig[fullInds])]))"
   ]
  },
  {
   "cell_type": "code",
   "execution_count": null,
   "metadata": {},
   "outputs": [],
   "source": [
    "np.sort((systems.catalogue['per'][fullInds][np.argsort(tToThreeSig[fullInds])]))"
   ]
  },
  {
   "cell_type": "code",
   "execution_count": null,
   "metadata": {},
   "outputs": [],
   "source": []
  },
  {
   "cell_type": "code",
   "execution_count": null,
   "metadata": {},
   "outputs": [],
   "source": [
    "print(np.rint(tToThreeSig[fullInds][np.argsort(tToThreeSig[fullInds])][:10]).astype(int))\n",
    "print(np.rint(tToThreeSig[fullInds][np.argsort(tToThreeSig[fullInds])]).astype(int))"
   ]
  },
  {
   "cell_type": "code",
   "execution_count": null,
   "metadata": {},
   "outputs": [],
   "source": [
    "print(np.rint(amps[fullInds][np.argsort(tToThreeSig[fullInds])][:10]*1e6).astype(int))\n",
    "print(np.rint(amps[fullInds][np.argsort(tToThreeSig[fullInds])]*1e6).astype(int))"
   ]
  },
  {
   "cell_type": "code",
   "execution_count": null,
   "metadata": {},
   "outputs": [],
   "source": []
  },
  {
   "cell_type": "code",
   "execution_count": null,
   "metadata": {},
   "outputs": [],
   "source": [
    "np.sum(tToThreeSig[fullInds][np.argsort(tToThreeSig[fullInds])][:10])"
   ]
  },
  {
   "cell_type": "code",
   "execution_count": null,
   "metadata": {},
   "outputs": [],
   "source": []
  },
  {
   "cell_type": "code",
   "execution_count": null,
   "metadata": {},
   "outputs": [],
   "source": []
  },
  {
   "cell_type": "code",
   "execution_count": null,
   "metadata": {},
   "outputs": [],
   "source": []
  },
  {
   "cell_type": "code",
   "execution_count": null,
   "metadata": {},
   "outputs": [],
   "source": []
  },
  {
   "cell_type": "code",
   "execution_count": null,
   "metadata": {},
   "outputs": [],
   "source": []
  },
  {
   "cell_type": "code",
   "execution_count": null,
   "metadata": {},
   "outputs": [],
   "source": []
  },
  {
   "cell_type": "code",
   "execution_count": null,
   "metadata": {},
   "outputs": [],
   "source": [
    "plt.plot(systems.catalogue['ra'][fullInds]*24./360., systems.catalogue['dec'][fullInds], '.', c='k')\n",
    "x = np.linspace(0,24,1000)\n",
    "y = 23.43681*np.sin(x*np.pi/12.)\n",
    "plt.plot(x, y, c='k', lw=1, label=r'$\\rm Ecliptic$')\n",
    "plt.xlabel(r'$\\rm RA~(hours)$')\n",
    "plt.ylabel(r'$\\rm Dec (degrees)$')\n",
    "plt.xticks(np.linspace(0,24,5))\n",
    "plt.yticks(np.linspace(-90,90,5))\n",
    "plt.xlim(0,24)\n",
    "plt.ylim(-90,90)\n",
    "plt.legend(loc=6, bbox_to_anchor=(1,0.5))\n",
    "plt.show()"
   ]
  },
  {
   "cell_type": "code",
   "execution_count": null,
   "metadata": {},
   "outputs": [],
   "source": [
    "x = systems.catalogue['ra'][fullInds]*24./360.\n",
    "yEcliptic = 23.43681*np.sin(x*np.pi/12.)\n",
    "# y = (systems.catalogue['dec'][fullInds] - yEcliptic)\n",
    "power = np.cos((systems.catalogue['dec'][fullInds] - yEcliptic)*np.pi/180.)\n",
    "\n",
    "fig = plt.gcf()\n",
    "ax = plt.gca()\n",
    "\n",
    "scat = ax.scatter(x=x, y=power, c=SNRs[fullInds], marker='.', s=150, cmap='viridis', norm=colors.LogNorm(), edgecolors='k', linewidth=0.5)\n",
    "cbar = fig.colorbar(scat, ax=ax, label=r'$\\rm Polarization~Fraction~SNR/hr$')\n",
    "ax.set_xlabel(r'$\\rm RA~(hours)$')\n",
    "ax.set_ylabel(r'$\\rm Fractional~Power~Generation$')\n",
    "ax.set_xticks(np.linspace(0,24,5))\n",
    "ax.set_xlim(0,24)\n",
    "ax.set_ylim(0,1)\n",
    "\n",
    "if savePlots:\n",
    "    plt.savefig(savepath+'PowerGeneration_vs_RA.png', dpi=300, bbox_inches='tight')\n",
    "\n",
    "plt.show()\n",
    "\n",
    "print('Mean Power Generation: '+str(int(np.rint(np.mean(power)*100)))+'% full capacity')\n",
    "print('Median Power Generation: '+str(int(np.rint(np.median(power)*100)))+'% full capacity')"
   ]
  },
  {
   "cell_type": "code",
   "execution_count": null,
   "metadata": {},
   "outputs": [],
   "source": [
    "x = systems.catalogue['ra'][fullInds]*24./360.\n",
    "yEcliptic = 23.43681*np.sin(x*np.pi/12.)\n",
    "y = (systems.catalogue['dec'][fullInds] - yEcliptic)\n",
    "\n",
    "fig = plt.gcf()\n",
    "ax = plt.gca()\n",
    "\n",
    "scat = ax.scatter(x=x, y=y, c=SNRs[fullInds], marker='.', s=150, cmap='viridis', norm=colors.LogNorm(), edgecolors='k', linewidth=0.5)\n",
    "cbar = fig.colorbar(scat, ax=ax, label=r'$\\rm Polarization~Fraction~SNR/hr$')\n",
    "ax.set_xlabel(r'$\\rm RA~(hours)$')\n",
    "ax.set_ylabel(r'$\\rm Angle~From~Ecliptic$')\n",
    "ax.set_xticks(np.linspace(0,24,5))\n",
    "ax.set_yticks(np.linspace(-90,90,5))\n",
    "ax.set_xlim(0,24)\n",
    "ax.set_ylim(-90,90)\n",
    "\n",
    "# if savePlots:\n",
    "#     plt.savefig(savepath+'PowerGeneration_vs_RA.png', dpi=300, bbox_inches='tight')\n",
    "\n",
    "plt.show()\n",
    "\n",
    "print('Mean Angle: '+str(np.round(np.mean(np.abs(y)), 2))+' degrees')\n",
    "print('Median Angle: '+str(np.round(np.median(np.abs(y)), 2))+' degrees')"
   ]
  },
  {
   "cell_type": "code",
   "execution_count": null,
   "metadata": {},
   "outputs": [],
   "source": [
    "np.percentile(np.abs(y), 15)"
   ]
  },
  {
   "cell_type": "code",
   "execution_count": null,
   "metadata": {},
   "outputs": [],
   "source": [
    "len(np.where(np.abs(y)<15)[0])/len(y)"
   ]
  },
  {
   "cell_type": "code",
   "execution_count": null,
   "metadata": {},
   "outputs": [],
   "source": [
    "np.percentile(power,25)"
   ]
  },
  {
   "cell_type": "code",
   "execution_count": null,
   "metadata": {},
   "outputs": [],
   "source": [
    "len(np.where(power>0.5)[0])/len(power)"
   ]
  },
  {
   "cell_type": "code",
   "execution_count": null,
   "metadata": {},
   "outputs": [],
   "source": [
    "systems.catalogue['name'][fullInds][np.argmin(power)]"
   ]
  },
  {
   "cell_type": "code",
   "execution_count": null,
   "metadata": {},
   "outputs": [],
   "source": []
  },
  {
   "cell_type": "code",
   "execution_count": null,
   "metadata": {},
   "outputs": [],
   "source": []
  },
  {
   "cell_type": "code",
   "execution_count": null,
   "metadata": {},
   "outputs": [],
   "source": []
  },
  {
   "cell_type": "code",
   "execution_count": null,
   "metadata": {},
   "outputs": [],
   "source": [
    "# Ifull = []\n",
    "# theta = np.linspace(0,360,100)\n",
    "# for i in theta:\n",
    "#     Ifull.append(eppe.rayleigh_scatter(i+90))\n",
    "# Ifull = np.array(Ifull)\n",
    "\n",
    "\n",
    "\n",
    "# I = Ifull\n",
    "# x = I*np.cos(theta*np.pi/180)\n",
    "# y = I*np.sin(theta*np.pi/180)\n",
    "# plt.plot(x, y)\n",
    "\n",
    "# I = 0.75*(1+np.cos(theta*np.pi/180)**2)\n",
    "# x = I*np.cos(theta*np.pi/180)\n",
    "# y = I*np.sin(theta*np.pi/180)\n",
    "# plt.plot(x, y)\n",
    "\n",
    "# plt.show()"
   ]
  },
  {
   "cell_type": "code",
   "execution_count": null,
   "metadata": {},
   "outputs": [],
   "source": []
  }
 ],
 "metadata": {
  "kernelspec": {
   "display_name": "Python [conda env:python3]",
   "language": "python",
   "name": "conda-env-python3-py"
  },
  "language_info": {
   "codemirror_mode": {
    "name": "ipython",
    "version": 3
   },
   "file_extension": ".py",
   "mimetype": "text/x-python",
   "name": "python",
   "nbconvert_exporter": "python",
   "pygments_lexer": "ipython3",
   "version": "3.6.7"
  }
 },
 "nbformat": 4,
 "nbformat_minor": 2
}
